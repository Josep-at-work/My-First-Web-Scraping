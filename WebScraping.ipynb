{
 "cells": [
  {
   "cell_type": "markdown",
   "metadata": {},
   "source": [
    "# Scraping University Researchers\n",
    "\n",
    "As a project from my Master's in Big Data Analysis I've performed my first solo web scraping. The task consisted on extracting specific information on the university's members of the different research groups. [Universitat de les Illes Balears](https://www.uib.es/es/), *aka* UIB.\n",
    "\n",
    "## Aim:\n",
    "+ Identification and extraction of the researchers' information:\n",
    "    + Name\n",
    "    + Gender \n",
    "    + Researcher Level\n",
    "    + Role\n",
    "    + Title\n",
    "    + CV\n",
    "    + Research Group\n",
    "\n",
    "### Part 1\n",
    "\n",
    "The researcher's data is available [here](https://www.uib.eu/research/groups/). The *All* cateogory displays all the research groups in a easier format so the scraping will start at:\n",
    "  + [url_en](https://www.uib.eu/research/groups/grups_area/id_area=-1%2526npag=1) english version.\n",
    "  + [url_cat](https://www.uib.cat/recerca/estructures/grups/grups_area/id_area=-1%2526npag=1) catalan version.\n",
    "  + [url_sp](https://www.uib.es/es/recerca/estructures/grups/grups_area/id_area=-1) spanish version.\n",
    "\n",
    "\n",
    "Then the first section consists of two parts: \n",
    "  1. Getting into an specific research group's web page and find the list of members.\n",
    "  2. Identify when there are no more pages listing the departments to stop the scrapping.\n",
    "  \n",
    "### Part 2\n",
    " \n",
    "Inside the research team's main page, the researchers are divided in 3 levels: \n",
    " + **Main Resercher**. Usually just one high level researcher.\n",
    " + **Members**. Many mid-high level researchers\n",
    " + **Collaboratos**. Many reserchers with distinct professional levels.\n",
    "\n",
    "The second part consists of identifying the following information from each member:\n",
    " + Name\n",
    " + Gender\n",
    " + Category of researcher in the team\n",
    " + Role at the univeristy (University Relationship)\n",
    " + Title\n",
    "\n",
    "### Part 3\n",
    "\n",
    "The last scraped data is a summary of the researcher's *curriculum vitae*. Some members don't have a personal university web page, hence there won't be any cv extraction in those cases. Moreover, not all researchers have their *cv* in all languages, so depending on the language some *cv* will be missing to. \n",
    "\n",
    "### Ensambling\n",
    "\n",
    "At the end of the notebook the functions and procedures defined in the previous sections are merged together in order to complete the process of scraping all researchers data. \n",
    "\n",
    "The language of scrapping can be modifyed by replacing the initial url by the corresponding with the desired language. This project has been done with the catalan version of the web page in order to be able to identify the researchers gender, in spanish could be known too. \n",
    "\n",
    "For non-catalan or spanish speakers, note that the female version of the personal title is like the male's one, adding an *a* at the end. Eg: Dr./Dra., Sr./Sra. Hence the gender of the researcher can be easily identifyed. "
   ]
  },
  {
   "cell_type": "markdown",
   "metadata": {},
   "source": [
    "### Beautiful Soup"
   ]
  },
  {
   "cell_type": "code",
   "execution_count": 1,
   "metadata": {},
   "outputs": [],
   "source": [
    "from bs4 import BeautifulSoup\n",
    "import requests\n",
    "import json"
   ]
  },
  {
   "cell_type": "markdown",
   "metadata": {},
   "source": [
    "## Part 1"
   ]
  },
  {
   "cell_type": "code",
   "execution_count": 2,
   "metadata": {},
   "outputs": [],
   "source": [
    "# Research Groups\n",
    "# url_en = \"https://www.uib.eu/research/groups/grups_area/id_area=-1\" english\n",
    "url_cat = \"https://www.uib.cat/recerca/estructures/grups/grups_area/id_area=-1%2526npag=1\"\n",
    "last_cat = \"https://www.uib.cat/recerca/estructures/grups/grups_area/id_area=-1%2526npag=15\""
   ]
  },
  {
   "cell_type": "code",
   "execution_count": 3,
   "metadata": {},
   "outputs": [],
   "source": [
    "def load_page(url):\n",
    "    web = requests.get(url)\n",
    "    if web.status_code == 200:\n",
    "        return BeautifulSoup(web.text, 'html5')\n",
    "    else:\n",
    "        print(\"Something went wrong\")\n",
    "        return None"
   ]
  },
  {
   "cell_type": "code",
   "execution_count": 41,
   "metadata": {
    "scrolled": true
   },
   "outputs": [],
   "source": [
    "cat = load_page(url_cat)\n",
    "# cat"
   ]
  },
  {
   "cell_type": "markdown",
   "metadata": {},
   "source": [
    "From the list of departments, the useful information is found inside a *div* elmenet from the class *uib_style_filanuica*"
   ]
  },
  {
   "cell_type": "code",
   "execution_count": 5,
   "metadata": {},
   "outputs": [],
   "source": [
    "container = cat.find(\"div\", class_ = \"uib_style_filaunica\")\n",
    "# container"
   ]
  },
  {
   "cell_type": "markdown",
   "metadata": {},
   "source": [
    "Once in the page and with the information selected, the departments are oganized in a **list of items**. Each items contains the name of the research group, or department, as well as it's url."
   ]
  },
  {
   "cell_type": "code",
   "execution_count": 33,
   "metadata": {
    "scrolled": true
   },
   "outputs": [],
   "source": [
    "groups = container.find_all(\"li\")\n",
    "# groups"
   ]
  },
  {
   "cell_type": "code",
   "execution_count": 7,
   "metadata": {},
   "outputs": [
    {
     "data": {
      "text/plain": [
       "'Genètica humana'"
      ]
     },
     "execution_count": 7,
     "metadata": {},
     "output_type": "execute_result"
    }
   ],
   "source": [
    "groups[0].get_text(strip=True)"
   ]
  },
  {
   "cell_type": "code",
   "execution_count": 8,
   "metadata": {},
   "outputs": [
    {
     "data": {
      "text/plain": [
       "'https://www.uib.cat/recerca/estructures/grups/grup/GENEHUMA/'"
      ]
     },
     "execution_count": 8,
     "metadata": {},
     "output_type": "execute_result"
    }
   ],
   "source": [
    "groups[0].find(\"a\").get(\"href\")"
   ]
  },
  {
   "cell_type": "markdown",
   "metadata": {},
   "source": [
    "The following function extracts the data per department, returns the **name** and an **url** "
   ]
  },
  {
   "cell_type": "code",
   "execution_count": 9,
   "metadata": {},
   "outputs": [],
   "source": [
    "def extract_group(dpt):\n",
    "    name = dpt.text.strip() #same as get_text(strip=True)\n",
    "    url = dpt.find(\"a\").get(\"href\")\n",
    "    return name, url"
   ]
  },
  {
   "cell_type": "code",
   "execution_count": 10,
   "metadata": {},
   "outputs": [
    {
     "data": {
      "text/plain": [
       "('Genètica humana',\n",
       " 'https://www.uib.cat/recerca/estructures/grups/grup/GENEHUMA/')"
      ]
     },
     "execution_count": 10,
     "metadata": {},
     "output_type": "execute_result"
    }
   ],
   "source": [
    "extract_group(groups[0])"
   ]
  },
  {
   "cell_type": "markdown",
   "metadata": {},
   "source": [
    "Each group's web page contains the general information. In addition, in one of the side menus the **Research Team** url is found. This url appears to be the same as the general one, adding the following peace string: _\"/equip/index.html\"_. "
   ]
  },
  {
   "cell_type": "markdown",
   "metadata": {},
   "source": [
    "Identify if a following page is available"
   ]
  },
  {
   "cell_type": "code",
   "execution_count": 11,
   "metadata": {},
   "outputs": [],
   "source": [
    "def next_page(page):\n",
    "    return page.find(\"img\", title = \"Pàg. Següent\") is not None"
   ]
  },
  {
   "cell_type": "code",
   "execution_count": 12,
   "metadata": {},
   "outputs": [
    {
     "data": {
      "text/plain": [
       "True"
      ]
     },
     "execution_count": 12,
     "metadata": {},
     "output_type": "execute_result"
    }
   ],
   "source": [
    "next_page(cat)"
   ]
  },
  {
   "cell_type": "code",
   "execution_count": 14,
   "metadata": {},
   "outputs": [
    {
     "data": {
      "text/plain": [
       "False"
      ]
     },
     "execution_count": 14,
     "metadata": {},
     "output_type": "execute_result"
    }
   ],
   "source": [
    "last = load_page(last_cat)\n",
    "next_page(last) "
   ]
  },
  {
   "cell_type": "markdown",
   "metadata": {},
   "source": [
    "## Part 2\n",
    "\n",
    "In each team's page there are three possible members categories. Some members of the collaborations category do not inform about their personal web page, hence their short cv summary won't be available."
   ]
  },
  {
   "cell_type": "code",
   "execution_count": 15,
   "metadata": {},
   "outputs": [
    {
     "data": {
      "text/plain": [
       "'Microbiologia (Microbio)'"
      ]
     },
     "execution_count": 15,
     "metadata": {},
     "output_type": "execute_result"
    }
   ],
   "source": [
    "group_name, group_url = extract_group(groups[1])\n",
    "members_url = group_url + \"/equip/index.html\"\n",
    "members_page = load_page(members_url)\n",
    "group_name"
   ]
  },
  {
   "cell_type": "markdown",
   "metadata": {},
   "source": [
    "Again the information is organized inside a *div* element, with the *itemprop* attribute holding the value *mainContentOfPage*"
   ]
  },
  {
   "cell_type": "code",
   "execution_count": 16,
   "metadata": {
    "scrolled": true
   },
   "outputs": [],
   "source": [
    "content = members_page.find(\"div\", itemprop = \"mainContentOfPage\")\n",
    "# print(content.prettify())"
   ]
  },
  {
   "cell_type": "code",
   "execution_count": 17,
   "metadata": {},
   "outputs": [
    {
     "data": {
      "text/plain": [
       "[<h3>Investigador principal</h3>, <h3>Membres</h3>, <h3>Col·laboradors</h3>]"
      ]
     },
     "execution_count": 17,
     "metadata": {},
     "output_type": "execute_result"
    }
   ],
   "source": [
    "# Member's level\n",
    "levels = content.find_all(\"h3\")\n",
    "levels"
   ]
  },
  {
   "cell_type": "markdown",
   "metadata": {},
   "source": [
    "The list of each category's members is found after the *h3* element, thus I've searched for the siblings of the respective *h3* to obtain the members."
   ]
  },
  {
   "cell_type": "code",
   "execution_count": 18,
   "metadata": {},
   "outputs": [
    {
     "data": {
      "text/plain": [
       "True"
      ]
     },
     "execution_count": 18,
     "metadata": {},
     "output_type": "execute_result"
    }
   ],
   "source": [
    "main_res = levels[1].find_next_sibling().find_all(\"li\")\n",
    "main_res\n",
    "pers = main_res[9]\n",
    "pers\n",
    "pers.find(\"a\") == None "
   ]
  },
  {
   "cell_type": "code",
   "execution_count": 19,
   "metadata": {},
   "outputs": [
    {
     "data": {
      "text/plain": [
       "[<li><a class=\"link_fitxa\" href=\"https://www.uib.cat/personal/ABjI0NDcyOQ/\">Sra. Maria Cañellas Cifre</a> (Tècnica mitjana)</li>,\n",
       " <li><a class=\"link_fitxa\" href=\"https://www.uib.cat/personal/ABjI4NTAxMg/\">Sr. Víctor Fernández Juárez</a> (Tècnic especialista)</li>]"
      ]
     },
     "execution_count": 19,
     "metadata": {},
     "output_type": "execute_result"
    }
   ],
   "source": [
    "colabs = levels[2].find_next_sibling().find_all(\"li\")\n",
    "colabs"
   ]
  },
  {
   "cell_type": "code",
   "execution_count": 20,
   "metadata": {},
   "outputs": [
    {
     "data": {
      "text/plain": [
       "'Sra. Maria Cañellas Cifre (Tècnica mitjana)'"
      ]
     },
     "execution_count": 20,
     "metadata": {},
     "output_type": "execute_result"
    }
   ],
   "source": [
    "person = colabs[0].text\n",
    "person"
   ]
  },
  {
   "cell_type": "markdown",
   "metadata": {},
   "source": [
    "Given each member with the first distinctive I've detected either it's a male or a female, the second part is the full name and the last part in between parenthesis is the member's role at the university."
   ]
  },
  {
   "cell_type": "code",
   "execution_count": 21,
   "metadata": {},
   "outputs": [
    {
     "data": {
      "text/plain": [
       "['Sra.', 'Maria', 'Cañellas', 'Cifre']"
      ]
     },
     "execution_count": 21,
     "metadata": {},
     "output_type": "execute_result"
    }
   ],
   "source": [
    "p1, p2 = person.split(\"(\")\n",
    "p1 = p1.strip().split() # Divide the name and category\n",
    "p1"
   ]
  },
  {
   "cell_type": "code",
   "execution_count": 22,
   "metadata": {},
   "outputs": [
    {
     "data": {
      "text/plain": [
       "'Maria Cañellas Cifre'"
      ]
     },
     "execution_count": 22,
     "metadata": {},
     "output_type": "execute_result"
    }
   ],
   "source": [
    "name = \" \".join(p1[1:])\n",
    "name"
   ]
  },
  {
   "cell_type": "code",
   "execution_count": 23,
   "metadata": {
    "scrolled": true
   },
   "outputs": [
    {
     "data": {
      "text/plain": [
       "'F'"
      ]
     },
     "execution_count": 23,
     "metadata": {},
     "output_type": "execute_result"
    }
   ],
   "source": [
    "def extract_gender(x):\n",
    "    if x[2]== \"a\":\n",
    "        return \"F\" #Female\n",
    "    else:\n",
    "        return \"M\" #Male\n",
    "extract_gender(p1[0])"
   ]
  },
  {
   "cell_type": "code",
   "execution_count": 24,
   "metadata": {},
   "outputs": [
    {
     "data": {
      "text/plain": [
       "'https://www.uib.cat/personal/ABjI0NDcyOQ/'"
      ]
     },
     "execution_count": 24,
     "metadata": {},
     "output_type": "execute_result"
    }
   ],
   "source": [
    "person0 = colabs[0]\n",
    "pers_url = person0.find(\"a\").get(\"href\") #personal url\n",
    "pers_url"
   ]
  },
  {
   "cell_type": "markdown",
   "metadata": {},
   "source": [
    "### Part 3\n",
    "The last part of the project consists of getting in to the person's personal web page and extract the cv summary in case there is one."
   ]
  },
  {
   "cell_type": "code",
   "execution_count": 25,
   "metadata": {
    "scrolled": true
   },
   "outputs": [
    {
     "name": "stdout",
     "output_type": "stream",
     "text": [
      "None\n"
     ]
    }
   ],
   "source": [
    "pers_web = load_page(pers_url)\n",
    "cv = pers_web.find(\"div\", id = \"cv_breve\")\n",
    "print(cv)"
   ]
  },
  {
   "cell_type": "markdown",
   "metadata": {},
   "source": [
    "This short CV information can be available in catalan, spanish and english, yet some researchers don't have the summary in all languages. Hence, this posible situation needs to be indenfied to solve any kind of potential error.  "
   ]
  },
  {
   "cell_type": "code",
   "execution_count": 26,
   "metadata": {},
   "outputs": [],
   "source": [
    "def extract_cv(url):\n",
    "    personal_page = load_page(url)\n",
    "    if personal_page.find(\"div\", class_ = \"uib_style_nolanguageversion\") is not None: #when is not found in a specific language\n",
    "#         print(\"No CV in this language\")\n",
    "        return None\n",
    "    if personal_page.find(\"div\", id = \"cv_breve\") is None:\n",
    "#         print(\"No CV for this researcher\")\n",
    "        return None\n",
    "    else:\n",
    "        return personal_page.find(\"div\", id = \"cv_breve\").text"
   ]
  },
  {
   "cell_type": "code",
   "execution_count": 27,
   "metadata": {
    "scrolled": true
   },
   "outputs": [
    {
     "data": {
      "text/plain": [
       "\"Soy licenciado con Grado en Biología por la Universidad de las Islas Baleares (1989) y Doctor en Biología por la misma Universidad (1994). He sido profesor de Microbiología de la UIB desde el curso académico 1994-95 con diferentes categorías contractuales, habiendo realizado estancias puntuales de investigación en otros centros y participado en una campaña oceanográfica Antártica. Desde el curso académico 2008-09 soy Profesor Titular de Microbiología y estoy adscrito al Departamento de Biología de la UIB. He estado vinculado a trabajos de investigación en temáticas diferentes desde 1988: filogenia y citogenética de coleópteros (alumno colaborador, 1988-89), fijación de nitrógeno en Azotobacter vinelandii (becario predoctoral FPI, 1990-1994), degradación de hidrocarburos aromáticos en Pseudomonas (1995-actualidad) y miembros del grupo Roseobacter (2006-actualidad), así como ecofisiología del grupo Roseobacter en aguas costeras antropogenizadas (2001-actualidad). Desde el año 2010 he empezado a abordar varias de estas temáticas utilizando técnicas de alto rendimiento como la genómica y la proteómica. Esta actividad científica se ha realizado en el marco de un total de 25 proyectos científicos competitivos financiados, tanto internacionales (5) como nacionales (20), habiendo actuado como Investigador Principal en 4 de ellos. Como resultado de estos proyectos he presentado resultados experimentales en más de 60 congresos, muchos de los cuales se han plasmado en más de 30 artículos en revistas internacionales indexadas, así como varios capítulos de libro y 2 patentes. Además, he dirigido un total de 6 tesis doctorales y otros 6 proyectos Final de Máster de carácter investigador. Finalmente, y en este marco de formación de personal investigador, he participado en el diseño y soy director del 'Máster Universitario en Microbiología Avanzada' (curso académico 2006-07 hasta actualidad), así como del 'Doctorado en Microbiología Ambiental y Biomédica' (curso académico 2007-08), este último con mención de Excelencia.\""
      ]
     },
     "execution_count": 27,
     "metadata": {},
     "output_type": "execute_result"
    }
   ],
   "source": [
    "extract_cv(pers_url)\n",
    "extract_cv('https://www.uib.cat/personal/AAzM1OA/')"
   ]
  },
  {
   "cell_type": "code",
   "execution_count": 28,
   "metadata": {},
   "outputs": [],
   "source": [
    "def extract_researcher(item, level):\n",
    "    url = item.find(\"a\")\n",
    "    text = item.text\n",
    "    parts = text.split(\"(\")\n",
    "    p1 = parts[0].strip().split()\n",
    "    cv = None\n",
    "    if url is not None:\n",
    "        personal_url = url.get(\"href\")\n",
    "        cv = extract_cv(personal_url)\n",
    "    return {\n",
    "        'name' : \" \".join(p1[1:]),\n",
    "        'gender' : extract_gender(p1[0]),\n",
    "        'reasearcher level' : level.get_text(),\n",
    "        'role' : parts[1][:-1],\n",
    "        'title' : p1[0],\n",
    "        'cv' : cv\n",
    "    } "
   ]
  },
  {
   "cell_type": "code",
   "execution_count": 29,
   "metadata": {},
   "outputs": [
    {
     "data": {
      "text/plain": [
       "{'name': 'Maria Cañellas Cifre',\n",
       " 'gender': 'F',\n",
       " 'reasearcher level': 'Investigador principal',\n",
       " 'role': 'Tècnica mitjana',\n",
       " 'title': 'Sra.',\n",
       " 'cv': None}"
      ]
     },
     "execution_count": 29,
     "metadata": {},
     "output_type": "execute_result"
    }
   ],
   "source": [
    "dict = extract_researcher(person0, levels[0])\n",
    "dict"
   ]
  },
  {
   "cell_type": "markdown",
   "metadata": {},
   "source": [
    "## Ensambling"
   ]
  },
  {
   "cell_type": "code",
   "execution_count": 37,
   "metadata": {},
   "outputs": [],
   "source": [
    "def scrapping_researchers(url):\n",
    "    i = 1\n",
    "    researchers = []\n",
    "    main = url[:-1] + '{}'                # extract the main url for surfing to further pages.\n",
    "    groups_list_page = load_page(url)     # first url.\n",
    "    stop = False                          # stoper\n",
    "    while stop is False:    # last main page scraped is the one with no pages following it.\n",
    "        print(\"Scrapping page \" + str(i))\n",
    "        content1 = groups_list_page.find(\"div\", class_ = \"uib_style_filaunica\")\n",
    "        groups = content1.find_all(\"li\")\n",
    "        for group in groups:\n",
    "            g_name, g_url = extract_group(group)\n",
    "            content2 = members_page.find(\"div\", itemprop = \"mainContentOfPage\")\n",
    "            levels = content2.find_all(\"h3\")\n",
    "            for lvl in levels:\n",
    "                members = lvl.find_next_sibling().find_all(\"li\")\n",
    "                for member in members:\n",
    "                    researcher = extract_researcher(member, lvl)\n",
    "                    researcher[\"research group\"] = g_name\n",
    "                    researchers.append(researcher)\n",
    "        if next_page(groups_list_page) == False:\n",
    "            stop = True\n",
    "        else: \n",
    "            i += 1\n",
    "            url = main.format(i)\n",
    "            groups_list_page = load_page(url)\n",
    "    return researchers"
   ]
  },
  {
   "cell_type": "code",
   "execution_count": 42,
   "metadata": {},
   "outputs": [
    {
     "name": "stdout",
     "output_type": "stream",
     "text": [
      "Scrapping page 1\n",
      "Scrapping page 2\n",
      "Scrapping page 3\n",
      "Scrapping page 4\n",
      "Scrapping page 5\n",
      "Scrapping page 6\n",
      "Scrapping page 7\n",
      "Scrapping page 8\n",
      "Scrapping page 9\n",
      "Scrapping page 10\n",
      "Scrapping page 11\n",
      "Scrapping page 12\n",
      "Scrapping page 13\n",
      "Scrapping page 14\n",
      "Scrapping page 15\n"
     ]
    }
   ],
   "source": [
    "researchers_uib = scrapping_researchers(url_cat)"
   ]
  },
  {
   "cell_type": "code",
   "execution_count": 43,
   "metadata": {},
   "outputs": [
    {
     "data": {
      "text/plain": [
       "{'name': 'Rafael Bosch Zaragoza',\n",
       " 'gender': 'M',\n",
       " 'reasearcher level': 'Investigador principal',\n",
       " 'role': \"Professor titular d'universitat\",\n",
       " 'title': 'Dr.',\n",
       " 'cv': \"Soy licenciado con Grado en Biología por la Universidad de las Islas Baleares (1989) y Doctor en Biología por la misma Universidad (1994). He sido profesor de Microbiología de la UIB desde el curso académico 1994-95 con diferentes categorías contractuales, habiendo realizado estancias puntuales de investigación en otros centros y participado en una campaña oceanográfica Antártica. Desde el curso académico 2008-09 soy Profesor Titular de Microbiología y estoy adscrito al Departamento de Biología de la UIB. He estado vinculado a trabajos de investigación en temáticas diferentes desde 1988: filogenia y citogenética de coleópteros (alumno colaborador, 1988-89), fijación de nitrógeno en Azotobacter vinelandii (becario predoctoral FPI, 1990-1994), degradación de hidrocarburos aromáticos en Pseudomonas (1995-actualidad) y miembros del grupo Roseobacter (2006-actualidad), así como ecofisiología del grupo Roseobacter en aguas costeras antropogenizadas (2001-actualidad). Desde el año 2010 he empezado a abordar varias de estas temáticas utilizando técnicas de alto rendimiento como la genómica y la proteómica. Esta actividad científica se ha realizado en el marco de un total de 25 proyectos científicos competitivos financiados, tanto internacionales (5) como nacionales (20), habiendo actuado como Investigador Principal en 4 de ellos. Como resultado de estos proyectos he presentado resultados experimentales en más de 60 congresos, muchos de los cuales se han plasmado en más de 30 artículos en revistas internacionales indexadas, así como varios capítulos de libro y 2 patentes. Además, he dirigido un total de 6 tesis doctorales y otros 6 proyectos Final de Máster de carácter investigador. Finalmente, y en este marco de formación de personal investigador, he participado en el diseño y soy director del 'Máster Universitario en Microbiología Avanzada' (curso académico 2006-07 hasta actualidad), así como del 'Doctorado en Microbiología Ambiental y Biomédica' (curso académico 2007-08), este último con mención de Excelencia.\",\n",
       " 'research group': 'Genètica humana'}"
      ]
     },
     "execution_count": 43,
     "metadata": {},
     "output_type": "execute_result"
    }
   ],
   "source": [
    "researchers_uib[0]"
   ]
  },
  {
   "cell_type": "markdown",
   "metadata": {},
   "source": [
    "The previous example shows the selection of scraped values from each UIB's researcher.\n",
    "\n",
    "Lastly, I'm going to use the following functions to load the scrapped data into a *.json* file and to load it back. As the catalan and spanish languages requier, the data is *utf8* encoded."
   ]
  },
  {
   "cell_type": "code",
   "execution_count": 44,
   "metadata": {},
   "outputs": [],
   "source": [
    "def dump_data(data, filename):\n",
    "    with open(filename, \"w\", encoding = 'utf8') as out_file:\n",
    "        json.dump(data, out_file, ensure_ascii = False)\n",
    "        \n",
    "def load_data(filename):\n",
    "    data = None\n",
    "    with open(filename, \"r\", encoding = 'utf8') as in_file:\n",
    "        data = json.load(in_file)\n",
    "    return data"
   ]
  },
  {
   "cell_type": "code",
   "execution_count": 45,
   "metadata": {},
   "outputs": [],
   "source": [
    "dump_data(researchers_uib, 'Researchers_UIB_Cat.json')"
   ]
  },
  {
   "cell_type": "markdown",
   "metadata": {},
   "source": [
    "## Results\n",
    "\n",
    "In this last section of the project I show two posible formats in which the scraped data can be used. The first one, is directly the format of the *.json* file, which is a list of dictionaries. The second format is a pandas dataframe which is one of the best option for a potential data analysis. \n",
    "\n",
    "Lastly, I would like to add that regarding my university's web page, the different language versions work perfectly fine, however some fields do not correspond to the specific language. The researcher of the following example, Rafael Bosch Zaragoza, has his *cv* in spanish for both the catalan and the spanish version of the web page. I guess that's not a huge problem as the catalan speakers are mainly bilingual so they can understan both languages. Most probably the researchers are the ones adding their *curriculum*'s summaries, yet I belive the university should have enough resources to solve this nuances."
   ]
  },
  {
   "cell_type": "code",
   "execution_count": 46,
   "metadata": {},
   "outputs": [
    {
     "data": {
      "text/plain": [
       "{'name': 'Rafael Bosch Zaragoza',\n",
       " 'gender': 'M',\n",
       " 'reasearcher level': 'Investigador principal',\n",
       " 'role': \"Professor titular d'universitat\",\n",
       " 'title': 'Dr.',\n",
       " 'cv': \"Soy licenciado con Grado en Biología por la Universidad de las Islas Baleares (1989) y Doctor en Biología por la misma Universidad (1994). He sido profesor de Microbiología de la UIB desde el curso académico 1994-95 con diferentes categorías contractuales, habiendo realizado estancias puntuales de investigación en otros centros y participado en una campaña oceanográfica Antártica. Desde el curso académico 2008-09 soy Profesor Titular de Microbiología y estoy adscrito al Departamento de Biología de la UIB. He estado vinculado a trabajos de investigación en temáticas diferentes desde 1988: filogenia y citogenética de coleópteros (alumno colaborador, 1988-89), fijación de nitrógeno en Azotobacter vinelandii (becario predoctoral FPI, 1990-1994), degradación de hidrocarburos aromáticos en Pseudomonas (1995-actualidad) y miembros del grupo Roseobacter (2006-actualidad), así como ecofisiología del grupo Roseobacter en aguas costeras antropogenizadas (2001-actualidad). Desde el año 2010 he empezado a abordar varias de estas temáticas utilizando técnicas de alto rendimiento como la genómica y la proteómica. Esta actividad científica se ha realizado en el marco de un total de 25 proyectos científicos competitivos financiados, tanto internacionales (5) como nacionales (20), habiendo actuado como Investigador Principal en 4 de ellos. Como resultado de estos proyectos he presentado resultados experimentales en más de 60 congresos, muchos de los cuales se han plasmado en más de 30 artículos en revistas internacionales indexadas, así como varios capítulos de libro y 2 patentes. Además, he dirigido un total de 6 tesis doctorales y otros 6 proyectos Final de Máster de carácter investigador. Finalmente, y en este marco de formación de personal investigador, he participado en el diseño y soy director del 'Máster Universitario en Microbiología Avanzada' (curso académico 2006-07 hasta actualidad), así como del 'Doctorado en Microbiología Ambiental y Biomédica' (curso académico 2007-08), este último con mención de Excelencia.\",\n",
       " 'research group': 'Genètica humana'}"
      ]
     },
     "execution_count": 46,
     "metadata": {},
     "output_type": "execute_result"
    }
   ],
   "source": [
    "data = load_data(\"Researchers_UIB_Cat.json\")\n",
    "data[0]"
   ]
  },
  {
   "cell_type": "markdown",
   "metadata": {},
   "source": [
    "This data can also be easily loaded into a pandas dataframe with [read_json()](https://pandas.pydata.org/docs/reference/api/pandas.read_json.html)."
   ]
  },
  {
   "cell_type": "code",
   "execution_count": 47,
   "metadata": {
    "scrolled": true
   },
   "outputs": [
    {
     "data": {
      "text/html": [
       "<div>\n",
       "<style scoped>\n",
       "    .dataframe tbody tr th:only-of-type {\n",
       "        vertical-align: middle;\n",
       "    }\n",
       "\n",
       "    .dataframe tbody tr th {\n",
       "        vertical-align: top;\n",
       "    }\n",
       "\n",
       "    .dataframe thead th {\n",
       "        text-align: right;\n",
       "    }\n",
       "</style>\n",
       "<table border=\"1\" class=\"dataframe\">\n",
       "  <thead>\n",
       "    <tr style=\"text-align: right;\">\n",
       "      <th></th>\n",
       "      <th>name</th>\n",
       "      <th>gender</th>\n",
       "      <th>reasearcher level</th>\n",
       "      <th>role</th>\n",
       "      <th>title</th>\n",
       "      <th>cv</th>\n",
       "      <th>research group</th>\n",
       "    </tr>\n",
       "  </thead>\n",
       "  <tbody>\n",
       "    <tr>\n",
       "      <td>0</td>\n",
       "      <td>Rafael Bosch Zaragoza</td>\n",
       "      <td>M</td>\n",
       "      <td>Investigador principal</td>\n",
       "      <td>Professor titular d'universitat</td>\n",
       "      <td>Dr.</td>\n",
       "      <td>Soy licenciado con Grado en Biología por la Un...</td>\n",
       "      <td>Genètica humana</td>\n",
       "    </tr>\n",
       "    <tr>\n",
       "      <td>1</td>\n",
       "      <td>Jorge Lalucat Jo</td>\n",
       "      <td>M</td>\n",
       "      <td>Membres</td>\n",
       "      <td>Professor emèrit</td>\n",
       "      <td>Dr.</td>\n",
       "      <td>None</td>\n",
       "      <td>Genètica humana</td>\n",
       "    </tr>\n",
       "    <tr>\n",
       "      <td>2</td>\n",
       "      <td>Elena Isabel García-Valdés Pukkits</td>\n",
       "      <td>F</td>\n",
       "      <td>Membres</td>\n",
       "      <td>Catedràtica d'universitat</td>\n",
       "      <td>Dra.</td>\n",
       "      <td>Fecha del CVA 15.09.2014 Elena García-Valdés P...</td>\n",
       "      <td>Genètica humana</td>\n",
       "    </tr>\n",
       "    <tr>\n",
       "      <td>3</td>\n",
       "      <td>Antonio Bennàsar Figueras</td>\n",
       "      <td>M</td>\n",
       "      <td>Membres</td>\n",
       "      <td>Professor titular d'universitat</td>\n",
       "      <td>Dr.</td>\n",
       "      <td>Antoni Bennasar Figueras (d'ara endavant, ABF)...</td>\n",
       "      <td>Genètica humana</td>\n",
       "    </tr>\n",
       "    <tr>\n",
       "      <td>4</td>\n",
       "      <td>Margarita Gomila Ribas</td>\n",
       "      <td>F</td>\n",
       "      <td>Membres</td>\n",
       "      <td>Professora titular d'universitat</td>\n",
       "      <td>Dra.</td>\n",
       "      <td>Soc Llicenciada en Biologia (1999) i en Bioqui...</td>\n",
       "      <td>Genètica humana</td>\n",
       "    </tr>\n",
       "    <tr>\n",
       "      <td>5</td>\n",
       "      <td>Balbina Nogales Fernández</td>\n",
       "      <td>F</td>\n",
       "      <td>Membres</td>\n",
       "      <td>Professora titular d'universitat</td>\n",
       "      <td>Dra.</td>\n",
       "      <td>Sóc llicenciada en Ciències Biològiques por la...</td>\n",
       "      <td>Genètica humana</td>\n",
       "    </tr>\n",
       "    <tr>\n",
       "      <td>6</td>\n",
       "      <td>Joseph Alexander Christie de Oleza</td>\n",
       "      <td>M</td>\n",
       "      <td>Membres</td>\n",
       "      <td>Contractat Ramón y Cajal</td>\n",
       "      <td>Dr.</td>\n",
       "      <td>Dr Joseph Christie-Oleza (JC-O) has recently m...</td>\n",
       "      <td>Genètica humana</td>\n",
       "    </tr>\n",
       "    <tr>\n",
       "      <td>7</td>\n",
       "      <td>Antonio Busquets Bisbal</td>\n",
       "      <td>M</td>\n",
       "      <td>Membres</td>\n",
       "      <td>Tècnic superior</td>\n",
       "      <td>Dr.</td>\n",
       "      <td>Mi formación como investigador empezó con dos ...</td>\n",
       "      <td>Genètica humana</td>\n",
       "    </tr>\n",
       "    <tr>\n",
       "      <td>8</td>\n",
       "      <td>Maria Magdalena Mulet Pol</td>\n",
       "      <td>F</td>\n",
       "      <td>Membres</td>\n",
       "      <td>Tècnica superior</td>\n",
       "      <td>Dra.</td>\n",
       "      <td>None</td>\n",
       "      <td>Genètica humana</td>\n",
       "    </tr>\n",
       "    <tr>\n",
       "      <td>9</td>\n",
       "      <td>Ramon Rossello Mora</td>\n",
       "      <td>M</td>\n",
       "      <td>Membres</td>\n",
       "      <td>Professor associat</td>\n",
       "      <td>Dr.</td>\n",
       "      <td>None</td>\n",
       "      <td>Genètica humana</td>\n",
       "    </tr>\n",
       "  </tbody>\n",
       "</table>\n",
       "</div>"
      ],
      "text/plain": [
       "                                 name gender       reasearcher level  \\\n",
       "0               Rafael Bosch Zaragoza      M  Investigador principal   \n",
       "1                    Jorge Lalucat Jo      M                 Membres   \n",
       "2  Elena Isabel García-Valdés Pukkits      F                 Membres   \n",
       "3           Antonio Bennàsar Figueras      M                 Membres   \n",
       "4              Margarita Gomila Ribas      F                 Membres   \n",
       "5           Balbina Nogales Fernández      F                 Membres   \n",
       "6  Joseph Alexander Christie de Oleza      M                 Membres   \n",
       "7             Antonio Busquets Bisbal      M                 Membres   \n",
       "8           Maria Magdalena Mulet Pol      F                 Membres   \n",
       "9                 Ramon Rossello Mora      M                 Membres   \n",
       "\n",
       "                               role title  \\\n",
       "0   Professor titular d'universitat   Dr.   \n",
       "1                  Professor emèrit   Dr.   \n",
       "2         Catedràtica d'universitat  Dra.   \n",
       "3   Professor titular d'universitat   Dr.   \n",
       "4  Professora titular d'universitat  Dra.   \n",
       "5  Professora titular d'universitat  Dra.   \n",
       "6          Contractat Ramón y Cajal   Dr.   \n",
       "7                   Tècnic superior   Dr.   \n",
       "8                  Tècnica superior  Dra.   \n",
       "9                Professor associat   Dr.   \n",
       "\n",
       "                                                  cv   research group  \n",
       "0  Soy licenciado con Grado en Biología por la Un...  Genètica humana  \n",
       "1                                               None  Genètica humana  \n",
       "2  Fecha del CVA 15.09.2014 Elena García-Valdés P...  Genètica humana  \n",
       "3  Antoni Bennasar Figueras (d'ara endavant, ABF)...  Genètica humana  \n",
       "4  Soc Llicenciada en Biologia (1999) i en Bioqui...  Genètica humana  \n",
       "5  Sóc llicenciada en Ciències Biològiques por la...  Genètica humana  \n",
       "6  Dr Joseph Christie-Oleza (JC-O) has recently m...  Genètica humana  \n",
       "7  Mi formación como investigador empezó con dos ...  Genètica humana  \n",
       "8                                               None  Genètica humana  \n",
       "9                                               None  Genètica humana  "
      ]
     },
     "execution_count": 47,
     "metadata": {},
     "output_type": "execute_result"
    }
   ],
   "source": [
    "import pandas as pd\n",
    "\n",
    "df = pd.read_json(\"Researchers_UIB_Cat.json\", encoding='utf8')\n",
    "df.head(10)"
   ]
  },
  {
   "cell_type": "code",
   "execution_count": 48,
   "metadata": {},
   "outputs": [
    {
     "name": "stdout",
     "output_type": "stream",
     "text": [
      "|      | name                    | gender   | reasearcher level   | role                | title   | cv   | research group                                           |\n",
      "|-----:|:------------------------|:---------|:--------------------|:--------------------|:--------|:-----|:---------------------------------------------------------|\n",
      "| 2645 | Víctor Fernández Juárez | M        | Col·laboradors      | Tècnic especialista | Sr.     |      | Unitat de Gràfics i Visió per Ordinador i IA (UGiVpOeIA) |\n"
     ]
    }
   ],
   "source": [
    "from tabulate import tabulate\n",
    "print(tabulate(df.tail(1), tablefmt = 'pipe', headers = 'keys'))"
   ]
  }
 ],
 "metadata": {
  "kernelspec": {
   "display_name": "Python 3",
   "language": "python",
   "name": "python3"
  },
  "language_info": {
   "codemirror_mode": {
    "name": "ipython",
    "version": 3
   },
   "file_extension": ".py",
   "mimetype": "text/x-python",
   "name": "python",
   "nbconvert_exporter": "python",
   "pygments_lexer": "ipython3",
   "version": "3.7.4"
  }
 },
 "nbformat": 4,
 "nbformat_minor": 2
}
